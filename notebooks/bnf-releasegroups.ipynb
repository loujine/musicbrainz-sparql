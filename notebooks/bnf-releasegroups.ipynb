{
 "cells": [
  {
   "cell_type": "code",
   "execution_count": null,
   "metadata": {},
   "outputs": [],
   "source": [
    "%run -i ../startup.py\n",
    "ENTITY_TYPE = 'release-group'\n",
    "endpoint='http://data.bnf.fr/sparql'"
   ]
  },
  {
   "cell_type": "markdown",
   "metadata": {},
   "source": [
    "## Release Groups from BNF"
   ]
  },
  {
   "cell_type": "code",
   "execution_count": null,
   "metadata": {},
   "outputs": [],
   "source": [
    "# linked to MB RG\n",
    "bnf_entity_count(ENTITY_TYPE)"
   ]
  },
  {
   "cell_type": "code",
   "execution_count": null,
   "metadata": {},
   "outputs": [],
   "source": [
    "links_from_bnf = sparql(f\"\"\"\n",
    "PREFIX skos: <http://www.w3.org/2004/02/skos/core#>\n",
    "\n",
    "SELECT (?rg AS ?bnf) ?mbid ?name\n",
    "WHERE {{\n",
    "  ?rg skos:exactMatch ?mbid .\n",
    "  ?rg skos:prefLabel ?name .\n",
    "  FILTER (regex (?mbid, 'musicbrainz.org/release-group/'))\n",
    "}}\n",
    "\"\"\", endpoint='http://data.bnf.fr/sparql')\n",
    "\n",
    "print('Count:', len(links_from_bnf))\n",
    "display_df(links_from_bnf.head())"
   ]
  },
  {
   "cell_type": "code",
   "execution_count": null,
   "metadata": {},
   "outputs": [],
   "source": [
    "links_to_add_to_mb = links_from_bnf\n",
    "links_to_add_to_mb['edit_link'] = links_to_add_to_mb.apply(\n",
    "    mb_releasegroup_edit_bnf_link, axis=1)\n",
    "\n",
    "print('Count:', len(links_to_add_to_mb))\n",
    "display_df(links_to_add_to_mb.head())"
   ]
  },
  {
   "cell_type": "markdown",
   "metadata": {},
   "source": [
    "## Report"
   ]
  },
  {
   "cell_type": "code",
   "execution_count": null,
   "metadata": {},
   "outputs": [],
   "source": [
    "import jinja2\n",
    "\n",
    "template = jinja2.Template(\"\"\"\n",
    "<!doctype html>\n",
    "\n",
    "<html lang=\"en\">\n",
    "  <head>\n",
    "    <meta charset=\"utf-8\">\n",
    "    <title>Alignment of MusicBrainz and BNF Release Groups</title>\n",
    "    <link href=\"https://maxcdn.bootstrapcdn.com/bootstrap/4.0.0/css/bootstrap.min.css\" rel=\"stylesheet\" integrity=\"sha384-Gn5384xqQ1aoWXA+058RXPxPg6fy4IWvTNh0E263XmFcJlSAwiGgFAW/dAiS6JXm\" crossorigin=\"anonymous\">\n",
    "  </head>\n",
    "\n",
    "  <body style=\"margin: 20px;\">\n",
    "    <h1>Alignment of MusicBrainz and BNF Release Groups</h1>\n",
    "\n",
    "    <p>Latest MB database update: {{ MB_DATABASE_VERSION }}</p>\n",
    "    <p>Latest update: {{ date.today().isoformat() }}</p>\n",
    "\n",
    "    <ol>\n",
    "      <li>\n",
    "        <a href=\"#bnf2mb\">Add missing BNF links to MusicBrainz</a>\n",
    "        ({{ links_to_add_to_mb.shape[0] }} rows)\n",
    "      </li>\n",
    "    </ol>\n",
    "    \n",
    "    <h2 id=\"bnf2mb\">Add missing BNF links to MusicBrainz</h2>\n",
    "    {{ df_to_html(links_to_add_to_mb) }}\n",
    "    \n",
    "  </body>\n",
    "</html>\n",
    "\"\"\")\n",
    "\n",
    "with open('../docs/bnf-releasegroups-report.html', 'w') as f:\n",
    "    f.write(template.render(**globals())\n",
    "            .replace('&lt;', '<').replace('&gt;', '>')\n",
    "            .replace('class=\"dataframe\"', 'class=\"table table-striped table-hover table-sm\"')\n",
    "            .replace('thead', 'thead class=\"thead-light\"'))"
   ]
  }
 ],
 "metadata": {
  "language_info": {
   "name": "python",
   "pygments_lexer": "ipython3"
  }
 },
 "nbformat": 4,
 "nbformat_minor": 4
}
