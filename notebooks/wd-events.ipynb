{
 "cells": [
  {
   "cell_type": "code",
   "execution_count": null,
   "metadata": {},
   "outputs": [],
   "source": [
    "%run -i ../startup.py\n",
    "ENTITY_TYPE = 'event'"
   ]
  },
  {
   "cell_type": "markdown",
   "metadata": {},
   "source": [
    "Wikidata entities:\n",
    "\n",
    "https://www.wikidata.org/wiki/Q182832 concert\n",
    "\n",
    "https://www.wikidata.org/wiki/Q1573906 concert tour\n",
    "\n",
    "\n",
    "\n",
    "\n",
    "Wikidata properties:\n",
    "\n",
    "https://www.wikidata.org/wiki/Property:P276 location\n",
    "\n",
    "https://www.wikidata.org/wiki/Property:P580 start time\n",
    "\n",
    "https://www.wikidata.org/wiki/Property:P585 point in time\n",
    "\n",
    "https://www.wikidata.org/wiki/Property:P710 participant\n",
    "\n",
    "https://www.wikidata.org/wiki/Property:P1651 youtube ID\n",
    "\n",
    "https://www.wikidata.org/wiki/Property:P6423 MusicBrainz event ID\n",
    "\n",
    "\n",
    "\n",
    "\n",
    "\n",
    "examples\n",
    "\n",
    "https://www.wikidata.org/wiki/Q898154\n",
    "\n",
    "https://www.wikidata.org/wiki/Q25408640"
   ]
  },
  {
   "cell_type": "markdown",
   "metadata": {},
   "source": [
    "## Events from Wikidata"
   ]
  },
  {
   "cell_type": "code",
   "execution_count": null,
   "metadata": {},
   "outputs": [],
   "source": [
    "sparql(\"\"\"\n",
    "SELECT (COUNT(?event) AS ?cnt)\n",
    "WHERE {\n",
    "  ?event wdt:P31 wd:Q182832 .\n",
    "  SERVICE wikibase:label { bd:serviceParam wikibase:language \"en\" }\n",
    "}\n",
    "\"\"\")"
   ]
  },
  {
   "cell_type": "code",
   "execution_count": null,
   "metadata": {},
   "outputs": [],
   "source": [
    "# entity types\n",
    "sparql(\"\"\"\n",
    "SELECT distinct (count(?event) as ?cnt) ?ins ?insLabel\n",
    "WHERE {\n",
    "  ?event wdt:P31 ?ins;\n",
    "    wdt:P6423 ?mbid.\n",
    "  SERVICE wikibase:label { bd:serviceParam wikibase:language \"en\" }\n",
    "}\n",
    "group by ?ins ?insLabel\n",
    "order by DESC(?cnt)\n",
    "\"\"\")"
   ]
  },
  {
   "cell_type": "code",
   "execution_count": null,
   "metadata": {},
   "outputs": [],
   "source": [
    "# linked to MB event\n",
    "links_from_wd = sparql(\"\"\"\n",
    "SELECT (?event AS ?wd) ?mbid ?eventLabel\n",
    "WHERE {\n",
    "  ?event wdt:P6423 ?mbid .\n",
    "  SERVICE wikibase:label { bd:serviceParam wikibase:language \"en\" }\n",
    "}\n",
    "ORDER BY ASC(?eventLabel)\n",
    "\"\"\")\n",
    "links_from_wd.rename(columns={'eventLabel': 'name'}, inplace=True)\n",
    "\n",
    "\n",
    "print('Count:', len(links_from_wd))\n",
    "display_df(links_from_wd.head())"
   ]
  },
  {
   "cell_type": "markdown",
   "metadata": {},
   "source": [
    "Event before 1920:"
   ]
  },
  {
   "cell_type": "code",
   "execution_count": null,
   "metadata": {},
   "outputs": [],
   "source": [
    "sparql(\"\"\"\n",
    "SELECT (?event AS ?wd) ?date ?eventLabel ?mbidam\n",
    "\n",
    "WHERE {\n",
    "  ?event wdt:P31* wd:Q182832 .\n",
    "  OPTIONAL { ?event wdt:P6423 ?mbid . }\n",
    "  ?event wdt:P585 ?date .\n",
    "  FILTER (year(?date) < 1920) .\n",
    "  SERVICE wikibase:label { bd:serviceParam wikibase:language \"en\" }\n",
    "}\n",
    "ORDER BY ASC(?date)\n",
    "\"\"\")"
   ]
  },
  {
   "cell_type": "markdown",
   "metadata": {},
   "source": [
    "## Events from MusicBrainz with wikidata links"
   ]
  },
  {
   "cell_type": "code",
   "execution_count": null,
   "metadata": {},
   "outputs": [],
   "source": [
    "links_from_mb = sql(\"\"\"\n",
    "SELECT\n",
    "    url.url AS wd,\n",
    "    event.gid AS mbid,\n",
    "    event.name\n",
    "FROM event\n",
    "JOIN l_event_url AS leu ON leu.entity0 = event.id\n",
    "JOIN url                ON leu.entity1 = url.id\n",
    "WHERE\n",
    "    url.url LIKE '%%wikidata.org%%'\n",
    "ORDER BY event.name\n",
    ";\n",
    "\"\"\")\n",
    "links_from_mb.wd = links_from_mb.wd.apply(lambda s: s.split('/')[-1])\n",
    "links_from_mb.mbid = links_from_mb.mbid.apply(str)\n",
    "\n",
    "print('Count:', len(links_from_mb))\n",
    "display_df(links_from_mb.head())"
   ]
  },
  {
   "cell_type": "markdown",
   "metadata": {},
   "source": [
    "## Duplicate links"
   ]
  },
  {
   "cell_type": "code",
   "execution_count": null,
   "metadata": {},
   "outputs": [],
   "source": [
    "duplicate_wd = links_from_mb[[\n",
    "    'wd', 'mbid', 'name']].groupby('wd').filter(\n",
    "    lambda row: len(row.mbid) > 1).sort_values('wd')\n",
    "\n",
    "print('Count:', len(duplicate_wd))\n",
    "display_df(duplicate_wd.head())"
   ]
  },
  {
   "cell_type": "code",
   "execution_count": null,
   "metadata": {},
   "outputs": [],
   "source": [
    "duplicate_mb = links_from_mb[['wd', 'mbid', 'name']].groupby('mbid').filter(\n",
    "    lambda row: len(row.mbid) > 1).sort_values('mbid')\n",
    "\n",
    "print('Count:', len(duplicate_mb))\n",
    "display_df(duplicate_mb.head())"
   ]
  },
  {
   "cell_type": "markdown",
   "metadata": {},
   "source": [
    "## Data alignment"
   ]
  },
  {
   "cell_type": "code",
   "execution_count": null,
   "metadata": {},
   "outputs": [],
   "source": [
    "merge = pd.merge(links_from_wd, links_from_mb, \n",
    "                 on=['wd', 'mbid'], suffixes=('_wd', '_mb'),\n",
    "                 how='outer', indicator=True)\n",
    "display_df(merge.head())"
   ]
  },
  {
   "cell_type": "code",
   "execution_count": null,
   "metadata": {},
   "outputs": [],
   "source": [
    "# link in mb but missing in wd\n",
    "links_to_add_to_wd = merge.loc[lambda x : x['_merge']=='right_only'][[\n",
    "    'name_mb', 'mbid', 'wd']]\n",
    "\n",
    "print('Count:', len(links_to_add_to_wd))\n",
    "display_df(links_to_add_to_wd.head())"
   ]
  },
  {
   "cell_type": "code",
   "execution_count": null,
   "metadata": {},
   "outputs": [],
   "source": [
    "# link in wd but missing in mb\n",
    "links_to_add_to_mb = merge.loc[lambda x : x['_merge']=='left_only'][[\n",
    "    'name_wd', 'wd', 'mbid']]\n",
    "links_to_add_to_mb['edit_link'] = links_to_add_to_mb.apply(\n",
    "    mb_event_edit_wd_link, axis=1)\n",
    "\n",
    "print('Count:', len(links_to_add_to_mb))\n",
    "display_df(links_to_add_to_mb.head())"
   ]
  },
  {
   "cell_type": "markdown",
   "metadata": {},
   "source": [
    "## Report"
   ]
  },
  {
   "cell_type": "code",
   "execution_count": null,
   "metadata": {},
   "outputs": [],
   "source": [
    "import jinja2\n",
    "\n",
    "template = jinja2.Template(\"\"\"\n",
    "<!doctype html>\n",
    "\n",
    "<html lang=\"en\">\n",
    "  <head>\n",
    "    <meta charset=\"utf-8\">\n",
    "    <title>Alignment of MusicBrainz and Wikidata Events</title>\n",
    "    <link href=\"https://maxcdn.bootstrapcdn.com/bootstrap/4.0.0/css/bootstrap.min.css\" rel=\"stylesheet\" integrity=\"sha384-Gn5384xqQ1aoWXA+058RXPxPg6fy4IWvTNh0E263XmFcJlSAwiGgFAW/dAiS6JXm\" crossorigin=\"anonymous\">\n",
    "  </head>\n",
    "\n",
    "  <body style=\"margin: 20px;\">\n",
    "    <h1>Alignment of MusicBrainz and Wikidata Events</h1>\n",
    "\n",
    "    <p>Latest MB database update: {{ MB_DATABASE_VERSION }}</p>\n",
    "    <p>Latest update: {{ date.today().isoformat() }}</p>\n",
    "\n",
    "    <ol>\n",
    "      <li>\n",
    "        <a href=\"#wddup\">MusicBrainz entities sharing a Wikidata link</a>\n",
    "        ({{ duplicate_wd.shape[0] }} rows)\n",
    "      </li>\n",
    "      <li>\n",
    "        <a href=\"#mbdup\">Wikidata entities sharing a MusicBrainz link</a>\n",
    "        ({{ duplicate_mb.shape[0] }} rows)\n",
    "      </li>\n",
    "      <li>\n",
    "        <a href=\"#wd2mb\">Add missing Wikidata links to MusicBrainz</a>\n",
    "        ({{ links_to_add_to_mb.shape[0] }} rows)\n",
    "      </li>\n",
    "      <li>\n",
    "        <a href=\"#mb2wd\">Add missing MusicBrainz links to Wikidata</a>\n",
    "        ({{ links_to_add_to_wd.shape[0] }} rows)\n",
    "      </li>\n",
    "    </ol>\n",
    "    \n",
    "    <h2 id=\"wddup\">MusicBrainz entities sharing a Wikidata link</h2>\n",
    "    {{ df_to_html(duplicate_wd) }}\n",
    "\n",
    "    <h2 id=\"mbdup\">Wikidata entities sharing a MusicBrainz link</h2>\n",
    "    {{ df_to_html(duplicate_mb) }}\n",
    "\n",
    "    <h2 id=\"wd2mb\">Add missing Wikidata links to MusicBrainz</h2>\n",
    "    {{ df_to_html(links_to_add_to_mb) }}\n",
    "\n",
    "    <h2 id=\"mb2wd\">Add missing MusicBrainz links to Wikidata</h2>\n",
    "    {{ df_to_html(links_to_add_to_wd) }}\n",
    "  </body>\n",
    "</html>\n",
    "\"\"\")\n",
    "\n",
    "with open('../docs/wd-events-report.html', 'w') as f:\n",
    "    f.write(template.render(**globals())\n",
    "            .replace('&lt;', '<').replace('&gt;', '>')\n",
    "            .replace('class=\"dataframe\"', 'class=\"table table-striped table-hover table-sm\"')\n",
    "            .replace('thead', 'thead class=\"thead-light\"'))"
   ]
  }
 ],
 "metadata": {
  "language_info": {
   "name": "python",
   "pygments_lexer": "ipython3"
  }
 },
 "nbformat": 4,
 "nbformat_minor": 4
}
