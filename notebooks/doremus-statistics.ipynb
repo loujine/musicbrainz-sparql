{
 "cells": [
  {
   "cell_type": "markdown",
   "id": "smoking-personality",
   "metadata": {},
   "source": [
    "# Doremus / MusicBrainz links statistics"
   ]
  },
  {
   "cell_type": "markdown",
   "id": "parliamentary-stomach",
   "metadata": {},
   "source": [
    "Count links in either direction between MusicBrainz and BNF"
   ]
  },
  {
   "cell_type": "code",
   "execution_count": null,
   "id": "flying-sewing",
   "metadata": {},
   "outputs": [],
   "source": [
    "from pprint import pprint\n",
    "%run -i ../startup.py\n",
    "endpoint = 'http://data.doremus.org/sparql'"
   ]
  },
  {
   "cell_type": "code",
   "execution_count": null,
   "id": "acute-coaching",
   "metadata": {},
   "outputs": [],
   "source": [
    "links_from_mb = {}\n",
    "for entity_type in MB_ENTITIES:\n",
    "    links_from_mb[entity_type] = mb_entity_count(entity_type, url_pattern='doremus.org')\n",
    "\n",
    "pprint(links_from_mb)"
   ]
  },
  {
   "cell_type": "code",
   "execution_count": null,
   "id": "silent-basement",
   "metadata": {},
   "outputs": [],
   "source": [
    "links_from_doremus = {}\n",
    "for entity_type in MB_ENTITIES:\n",
    "    links_from_doremus[entity_type] = doremus_entity_count(entity_type)\n",
    "   \n",
    "pprint(links_from_doremus)"
   ]
  },
  {
   "cell_type": "code",
   "execution_count": null,
   "id": "terminal-arthur",
   "metadata": {},
   "outputs": [],
   "source": [
    "link_count = pd.DataFrame({'from_mb': links_from_mb, 'from_doremus': links_from_doremus})\n",
    "link_count"
   ]
  },
  {
   "cell_type": "code",
   "execution_count": null,
   "id": "lonely-technician",
   "metadata": {},
   "outputs": [],
   "source": [
    "import jinja2\n",
    "\n",
    "template = jinja2.Template(\"\"\"\n",
    "<!doctype html>\n",
    "\n",
    "<html lang=\"en\">\n",
    "  <head>\n",
    "    <meta charset=\"utf-8\">\n",
    "    <title>Alignment of MusicBrainz and Doremus entities</title>\n",
    "    <link href=\"https://maxcdn.bootstrapcdn.com/bootstrap/4.0.0/css/bootstrap.min.css\" rel=\"stylesheet\" integrity=\"sha384-Gn5384xqQ1aoWXA+058RXPxPg6fy4IWvTNh0E263XmFcJlSAwiGgFAW/dAiS6JXm\" crossorigin=\"anonymous\">\n",
    "  </head>\n",
    "\n",
    "  <body style=\"margin: 20px;\">\n",
    "    <h1>Alignment of MusicBrainz and Doremus entities</h1>\n",
    "\n",
    "    <p>Latest MB database update: {{ MB_DATABASE_VERSION }}</p>\n",
    "    <p>Latest update: {{ date.today().isoformat() }}</p>\n",
    "\n",
    "    <h2>Count links in either direction between MusicBrainz and Doremus</h2>\n",
    "    {{ df_to_html(link_count, reindex=False) }}\n",
    "  </body>\n",
    "</html>\n",
    "\"\"\")\n",
    "\n",
    "with open('../docs/doremus-statistics-report.html', 'w') as f:\n",
    "    f.write(template.render(**globals())\n",
    "            .replace('&lt;', '<').replace('&gt;', '>')\n",
    "            .replace('class=\"dataframe\"', 'class=\"table table-striped table-hover table-sm\"')\n",
    "            .replace('thead', 'thead class=\"thead-light\"'))"
   ]
  }
 ],
 "metadata": {
  "language_info": {
   "name": "python",
   "pygments_lexer": "ipython3"
  }
 },
 "nbformat": 4,
 "nbformat_minor": 5
}
