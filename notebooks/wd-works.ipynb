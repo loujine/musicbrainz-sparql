{
 "cells": [
  {
   "cell_type": "code",
   "execution_count": null,
   "metadata": {},
   "outputs": [],
   "source": [
    "%run -i ../startup.py\n",
    "ENTITY_TYPE = 'work'"
   ]
  },
  {
   "cell_type": "markdown",
   "metadata": {},
   "source": [
    "Wikidata entities:\n",
    "\n",
    "https://www.wikidata.org/wiki/Q2188189 musical work\n",
    "\n",
    "Wikidata properties:\n",
    "\n",
    "https://www.wikidata.org/wiki/Property:P86 composer\n",
    "\n",
    "https://www.wikidata.org/wiki/Property:P870 instrumentation\n",
    "\n",
    "https://www.wikidata.org/wiki/Property:P214 VIAF\n",
    "\n",
    "https://www.wikidata.org/wiki/Property:P268 BNF\n",
    "\n",
    "https://www.wikidata.org/wiki/Property:P244 LoC\n",
    "\n",
    "https://www.wikidata.org/wiki/Property:P839 IMSLP\n",
    "\n",
    "https://www.wikidata.org/wiki/Property:P435 MusicBrainz work ID\n",
    "\n",
    "https://www.wikidata.org/wiki/Property:P1994 AllMusic composition ID\n",
    "\n",
    "https://www.wikidata.org/wiki/Property:P5229 Carnegie Hall work ID\n",
    "\n",
    "https://www.wikidata.org/wiki/Property:P6080 Discogs composition ID (obsoleted by discogs in October 2019)\n",
    "\n",
    "examples\n",
    "\n",
    "https://www.wikidata.org/wiki/Q3478907"
   ]
  },
  {
   "cell_type": "markdown",
   "metadata": {},
   "source": [
    "## Works from Wikidata"
   ]
  },
  {
   "cell_type": "code",
   "execution_count": null,
   "metadata": {},
   "outputs": [],
   "source": [
    "links_type_from_wd = sparql(\"\"\"\n",
    "SELECT distinct (count(?work) as ?cnt) ?ins ?insLabel\n",
    "WHERE {\n",
    "  ?work wdt:P31 ?ins;\n",
    "    wdt:P435 ?mbid.\n",
    "    SERVICE wikibase:label { bd:serviceParam wikibase:language \"en\" }\n",
    "}\n",
    "group by ?ins ?insLabel\n",
    "order by DESC(?cnt)\n",
    "\"\"\")\n",
    "links_type_from_wd[links_type_from_wd.cnt.astype(int) > 10]"
   ]
  },
  {
   "cell_type": "code",
   "execution_count": null,
   "metadata": {},
   "outputs": [],
   "source": [
    "sparql(\"\"\"\n",
    "SELECT (COUNT(?work) AS ?cnt)\n",
    "WHERE {\n",
    "  ?work wdt:P435 ?mbid.\n",
    "  SERVICE wikibase:label { bd:serviceParam wikibase:language \"en\" }\n",
    "}\n",
    "\"\"\")"
   ]
  },
  {
   "cell_type": "code",
   "execution_count": null,
   "metadata": {},
   "outputs": [],
   "source": [
    "# linked to MB work\n",
    "links_from_wd = sparql(\"\"\"\n",
    "SELECT (?work AS ?wd) ?mbid ?workLabel (GROUP_CONCAT(?categoryLabel; SEPARATOR=\", \") AS ?workType)\n",
    "WHERE {\n",
    "  ?work wdt:P435 ?mbid .\n",
    "  ?work wdt:P31 ?category .\n",
    "  ?category rdfs:label ?categoryLabel FILTER(LANG(?categoryLabel) = \"en\")\n",
    "  SERVICE wikibase:label { bd:serviceParam wikibase:language \"en\" }\n",
    "}\n",
    "GROUP BY ?work ?mbid ?workLabel\n",
    "ORDER BY ASC(?workType) ASC(?workLabel)\n",
    "\"\"\")\n",
    "links_from_wd.rename(columns={'workLabel': 'name'}, inplace=True)\n",
    "print('Count:', len(links_from_wd))\n",
    "display_df(links_from_wd.head())"
   ]
  },
  {
   "cell_type": "markdown",
   "metadata": {},
   "source": [
    "## Works from MusicBrainz with wikidata links"
   ]
  },
  {
   "cell_type": "code",
   "execution_count": null,
   "metadata": {},
   "outputs": [],
   "source": [
    "links_from_mb = sql(\"\"\"\n",
    "SELECT\n",
    "    url.url AS wd,\n",
    "    work.gid AS mbid,\n",
    "    work.name\n",
    "FROM work\n",
    "JOIN l_url_work AS luw ON luw.entity1 = work.id\n",
    "JOIN url               ON luw.entity0 = url.id\n",
    "WHERE\n",
    "    url.url LIKE '%%wikidata.org%%'\n",
    "ORDER BY work.name\n",
    ";\n",
    "\"\"\")\n",
    "links_from_mb.wd = links_from_mb.wd.apply(lambda s: s.split('/')[-1])\n",
    "links_from_mb.mbid = links_from_mb.mbid.apply(str)\n",
    "\n",
    "print('Count:', len(links_from_mb))\n",
    "display_df(links_from_mb.head())"
   ]
  },
  {
   "cell_type": "markdown",
   "metadata": {},
   "source": [
    "## Duplicate links"
   ]
  },
  {
   "cell_type": "code",
   "execution_count": null,
   "metadata": {},
   "outputs": [],
   "source": [
    "duplicate_wd = links_from_mb[[\n",
    "    'wd', 'mbid', 'name']].groupby('wd').filter(\n",
    "    lambda row: len(row.mbid) > 1).sort_values('wd')\n",
    "\n",
    "print('Count:', len(duplicate_wd))\n",
    "display_df(duplicate_wd.head())"
   ]
  },
  {
   "cell_type": "code",
   "execution_count": null,
   "metadata": {},
   "outputs": [],
   "source": [
    "duplicate_mb = links_from_mb[['wd', 'mbid', 'name']].groupby('mbid').filter(\n",
    "    lambda row: len(row.mbid) > 1).sort_values('mbid')\n",
    "\n",
    "print('Count:', len(duplicate_mb))\n",
    "display_df(duplicate_mb.head())"
   ]
  },
  {
   "cell_type": "markdown",
   "metadata": {},
   "source": [
    "## Data alignment"
   ]
  },
  {
   "cell_type": "code",
   "execution_count": null,
   "metadata": {},
   "outputs": [],
   "source": [
    "merge = pd.merge(links_from_wd, links_from_mb, \n",
    "                 on=['wd', 'mbid'], suffixes=('_wd', '_mb'),\n",
    "                 how='outer', indicator=True)\n",
    "display_df(merge.head())"
   ]
  },
  {
   "cell_type": "code",
   "execution_count": null,
   "metadata": {},
   "outputs": [],
   "source": [
    "# link in mb but missing in wd\n",
    "links_to_add_to_wd = merge.loc[lambda x : x['_merge']=='right_only'][[\n",
    "    'name_mb', 'mbid', 'wd']]\n",
    "\n",
    "print('Count:', len(links_to_add_to_wd))\n",
    "display_df(links_to_add_to_wd.head())"
   ]
  },
  {
   "cell_type": "code",
   "execution_count": null,
   "metadata": {},
   "outputs": [],
   "source": [
    "# link in wd but missing in mb\n",
    "links_to_add_to_mb = merge.loc[lambda x : x['_merge']=='left_only'][[\n",
    "    'name_wd', 'wd', 'mbid', 'workType']]\n",
    "links_to_add_to_mb['edit_link'] = links_to_add_to_mb.apply(\n",
    "    mb_work_edit_wd_link, axis=1)\n",
    "\n",
    "print('Count:', len(links_to_add_to_mb))\n",
    "display_df(links_to_add_to_mb.head())"
   ]
  },
  {
   "cell_type": "markdown",
   "metadata": {},
   "source": [
    "## Report"
   ]
  },
  {
   "cell_type": "code",
   "execution_count": null,
   "metadata": {},
   "outputs": [],
   "source": [
    "import jinja2\n",
    "\n",
    "template = jinja2.Template(\"\"\"\n",
    "<!doctype html>\n",
    "\n",
    "<html lang=\"en\">\n",
    "  <head>\n",
    "    <meta charset=\"utf-8\">\n",
    "    <title>Alignment of MusicBrainz and Wikidata Works</title>\n",
    "    <link href=\"https://maxcdn.bootstrapcdn.com/bootstrap/4.0.0/css/bootstrap.min.css\" rel=\"stylesheet\" integrity=\"sha384-Gn5384xqQ1aoWXA+058RXPxPg6fy4IWvTNh0E263XmFcJlSAwiGgFAW/dAiS6JXm\" crossorigin=\"anonymous\">\n",
    "  </head>\n",
    "\n",
    "  <body style=\"margin: 20px;\">\n",
    "    <h1>Alignment of MusicBrainz and Wikidata Works</h1>\n",
    "\n",
    "    <p>Latest MB database update: {{ MB_DATABASE_VERSION }}</p>\n",
    "    <p>Latest update: {{ date.today().isoformat() }}</p>\n",
    "\n",
    "    <ol>\n",
    "      <li>\n",
    "        <a href=\"#wddup\">MusicBrainz entities sharing a Wikidata link</a>\n",
    "        ({{ duplicate_wd.shape[0] }} rows)\n",
    "      </li>\n",
    "      <li>\n",
    "        <a href=\"#mbdup\">Wikidata entities sharing a MusicBrainz link</a>\n",
    "        ({{ duplicate_mb.shape[0] }} rows)\n",
    "      </li>\n",
    "      <li>\n",
    "        <a href=\"#wd2mb\">Add missing Wikidata links to MusicBrainz</a>\n",
    "        ({{ links_to_add_to_mb.shape[0] }} rows)\n",
    "      </li>\n",
    "      <li>\n",
    "        <a href=\"#mb2wd\">Add missing MusicBrainz links to Wikidata</a>\n",
    "        ({{ links_to_add_to_wd.shape[0] }} rows)\n",
    "      </li>\n",
    "    </ol>\n",
    "    \n",
    "    <h2 id=\"wddup\">MusicBrainz entities sharing a Wikidata link</h2>\n",
    "    {{ df_to_html(duplicate_wd) }}\n",
    "\n",
    "    <h2 id=\"mbdup\">Wikidata entities sharing a MusicBrainz link</h2>\n",
    "    {{ df_to_html(duplicate_mb) }}\n",
    "\n",
    "    <h2 id=\"wd2mb\">Add missing Wikidata links to MusicBrainz</h2>\n",
    "    {{ df_to_html(links_to_add_to_mb) }}\n",
    "\n",
    "    <h2 id=\"mb2wd\">Add missing MusicBrainz links to Wikidata</h2>\n",
    "    {{ df_to_html(links_to_add_to_wd) }}\n",
    "  </body>\n",
    "</html>\n",
    "\"\"\")\n",
    "\n",
    "with open('../docs/wd-works-report.html', 'w') as f:\n",
    "    f.write(template.render(**globals())\n",
    "            .replace('&lt;', '<').replace('&gt;', '>')\n",
    "            .replace('class=\"dataframe\"', 'class=\"table table-striped table-hover table-sm\"')\n",
    "            .replace('thead', 'thead class=\"thead-light\"'))"
   ]
  }
 ],
 "metadata": {
  "language_info": {
   "name": "python",
   "pygments_lexer": "ipython3"
  }
 },
 "nbformat": 4,
 "nbformat_minor": 4
}
