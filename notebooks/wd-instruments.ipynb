{
 "cells": [
  {
   "cell_type": "markdown",
   "metadata": {},
   "source": [
    "# Alignment of MusicBrainz and Wikidata instruments"
   ]
  },
  {
   "cell_type": "code",
   "execution_count": null,
   "metadata": {},
   "outputs": [],
   "source": [
    "%run -i ../startup.py\n",
    "ENTITY_TYPE = 'instrument'"
   ]
  },
  {
   "cell_type": "markdown",
   "metadata": {},
   "source": [
    "## Instruments from Wikidata"
   ]
  },
  {
   "cell_type": "markdown",
   "metadata": {},
   "source": [
    "Wikidata entities which are musical instruments or families of musical instruments:"
   ]
  },
  {
   "cell_type": "code",
   "execution_count": null,
   "metadata": {},
   "outputs": [],
   "source": [
    "# instance of musical instrument\n",
    "wd_musical_instruments = sparql(\"\"\"\n",
    "SELECT ?instrument ?instrumentLabel ?HornbostelSachs\n",
    "WHERE {\n",
    "  { ?instrument wdt:P31* wd:Q34379 . }\n",
    "  UNION\n",
    "  { ?instrument wdt:P31 wd:Q1254773 . }\n",
    "  OPTIONAL\n",
    "  { ?instrument wdt:P1762 ?HornbostelSachs . }\n",
    "  SERVICE wikibase:label { bd:serviceParam wikibase:language \"en\" }\n",
    "}\n",
    "\"\"\")\n",
    "wd_musical_instruments.rename(columns={\n",
    "    'instrument': 'wd', 'instrumentLabel': 'name'}, inplace=True)\n",
    "wd_musical_instruments.head()"
   ]
  },
  {
   "cell_type": "markdown",
   "metadata": {},
   "source": [
    "Entities with \"instrumental\" links to MB:"
   ]
  },
  {
   "cell_type": "code",
   "execution_count": null,
   "metadata": {},
   "outputs": [],
   "source": [
    "# linked to MB instrument\n",
    "links_from_wd = sparql(\"\"\"\n",
    "SELECT (?instrument AS ?wd) ?mbid ?instrumentLabel\n",
    "WHERE {\n",
    "  ?instrument wdt:P1330 ?mbid .\n",
    "  SERVICE wikibase:label { bd:serviceParam wikibase:language \"en\" }\n",
    "}\n",
    "ORDER BY ASC(?instrumentLabel)\n",
    "\"\"\")\n",
    "links_from_wd.rename(columns={'instrumentLabel': 'name'}, inplace=True)\n",
    "\n",
    "display_df(links_from_wd.head())"
   ]
  },
  {
   "cell_type": "markdown",
   "metadata": {},
   "source": [
    "### Wikidata instruments with several MusicBrainz links"
   ]
  },
  {
   "cell_type": "markdown",
   "metadata": {},
   "source": [
    "Probably needs cleanup"
   ]
  },
  {
   "cell_type": "code",
   "execution_count": null,
   "metadata": {},
   "outputs": [],
   "source": [
    "set([wd for wd in links_from_wd.wd\n",
    "     if links_from_wd.wd.to_list().count(wd) > 1])"
   ]
  },
  {
   "cell_type": "code",
   "execution_count": null,
   "metadata": {},
   "outputs": [],
   "source": [
    "set([mbid for mbid in links_from_wd.mbid\n",
    "     if links_from_wd.mbid.to_list().count(mbid) > 1])"
   ]
  },
  {
   "cell_type": "markdown",
   "metadata": {},
   "source": [
    "## Instruments from MusicBrainz with wikidata links"
   ]
  },
  {
   "cell_type": "code",
   "execution_count": null,
   "metadata": {},
   "outputs": [],
   "source": [
    "links_from_mb = sql(\"\"\"\n",
    "SELECT\n",
    "    url.url AS wd,\n",
    "    instrument.gid AS mbid,\n",
    "    instrument.name\n",
    "FROM url\n",
    "JOIN l_instrument_url AS llu ON llu.entity1 = url.id\n",
    "JOIN instrument              ON llu.entity0 = instrument.id\n",
    "WHERE\n",
    "    url.url LIKE '%%wikidata.org%%'\n",
    "ORDER BY instrument.name\n",
    ";\n",
    "\"\"\")\n",
    "links_from_mb.wd = links_from_mb.wd.apply(lambda s: s.split('/')[-1])\n",
    "links_from_mb.mbid = links_from_mb.mbid.apply(str)\n",
    "display_df(links_from_mb.head())"
   ]
  },
  {
   "cell_type": "markdown",
   "metadata": {},
   "source": [
    "### MusicBrainz instruments with several Wikidata links"
   ]
  },
  {
   "cell_type": "markdown",
   "metadata": {},
   "source": [
    "Probably needs cleanup"
   ]
  },
  {
   "cell_type": "code",
   "execution_count": null,
   "metadata": {},
   "outputs": [],
   "source": [
    "set([wd for wd in links_from_mb.wd\n",
    "     if links_from_mb.wd.to_list().count(wd) > 1])"
   ]
  },
  {
   "cell_type": "code",
   "execution_count": null,
   "metadata": {},
   "outputs": [],
   "source": [
    "set([mbid for mbid in links_from_mb.mbid\n",
    "     if links_from_mb.mbid.to_list().count(mbid) > 1])"
   ]
  },
  {
   "cell_type": "markdown",
   "metadata": {},
   "source": [
    "## Data alignment"
   ]
  },
  {
   "cell_type": "code",
   "execution_count": null,
   "metadata": {},
   "outputs": [],
   "source": [
    "merge = pd.merge(links_from_wd, links_from_mb, \n",
    "                 on=['wd', 'mbid'], suffixes=('_wd', '_mb'),\n",
    "                 how='outer', indicator=True)\n",
    "display_df(merge.head())"
   ]
  },
  {
   "cell_type": "code",
   "execution_count": null,
   "metadata": {},
   "outputs": [],
   "source": [
    "# link in mb but missing in wd\n",
    "links_to_add_to_wd = merge.loc[lambda x : x['_merge']=='right_only'][['name_mb', 'mbid', 'wd']]\n",
    "display_df(links_to_add_to_wd)"
   ]
  },
  {
   "cell_type": "markdown",
   "metadata": {},
   "source": [
    "24 links in MB that are not in WD"
   ]
  },
  {
   "cell_type": "code",
   "execution_count": null,
   "metadata": {},
   "outputs": [],
   "source": [
    "# link in wd but missing in mb\n",
    "links_to_add_to_mb = merge.loc[lambda x : x['_merge']=='left_only'][['name_wd', 'wd', 'mbid']]\n",
    "display_df(links_to_add_to_mb)"
   ]
  },
  {
   "cell_type": "markdown",
   "metadata": {},
   "source": [
    "9 links in WD that are not in MB"
   ]
  },
  {
   "cell_type": "markdown",
   "metadata": {},
   "source": [
    "In those mismatches, some are not recognized because of redirects on WD side: Q54995817 to Q4138014, Q16033036 to Q3181140"
   ]
  },
  {
   "cell_type": "markdown",
   "metadata": {},
   "source": [
    "## Instruments from MusicBrainz without wikidata links"
   ]
  },
  {
   "cell_type": "code",
   "execution_count": null,
   "metadata": {},
   "outputs": [],
   "source": [
    "no_links_from_mb = sql(\"\"\"\n",
    "SELECT\n",
    "    gid AS mbid,\n",
    "    name\n",
    "FROM\n",
    "    instrument\n",
    "WHERE\n",
    "    id NOT IN (\n",
    "        SELECT\n",
    "            instrument.id\n",
    "        FROM url\n",
    "        JOIN l_instrument_url AS llu ON llu.entity1 = url.id\n",
    "        JOIN instrument              ON llu.entity0 = instrument.id\n",
    "        WHERE\n",
    "            url.url LIKE '%%wikidata.org%%'\n",
    "    )\n",
    ";\n",
    "\"\"\")\n",
    "no_links_from_mb.mbid = no_links_from_mb.mbid.apply(str)\n",
    "display_df(no_links_from_mb)"
   ]
  },
  {
   "cell_type": "markdown",
   "metadata": {},
   "source": [
    "## Alignment suggestions"
   ]
  },
  {
   "cell_type": "markdown",
   "metadata": {},
   "source": [
    "### Exact match"
   ]
  },
  {
   "cell_type": "markdown",
   "metadata": {},
   "source": [
    "Exact match between instrument names in WD and MB:"
   ]
  },
  {
   "cell_type": "code",
   "execution_count": null,
   "metadata": {},
   "outputs": [],
   "source": [
    "no_links_merge = pd.merge(no_links_from_mb, wd_musical_instruments, \n",
    "                 on='name', how='inner', indicator=False)\n",
    "display_df(no_links_merge)"
   ]
  },
  {
   "cell_type": "markdown",
   "metadata": {},
   "source": [
    "### With fuzzy-matching library"
   ]
  },
  {
   "cell_type": "markdown",
   "metadata": {},
   "source": [
    "Using fuzzy-matching to find close instrument names:"
   ]
  },
  {
   "cell_type": "code",
   "execution_count": null,
   "metadata": {},
   "outputs": [],
   "source": [
    "import fuzzymatcher\n",
    "\n",
    "match = fuzzymatcher.fuzzy_left_join(\n",
    "    no_links_from_mb, wd_musical_instruments[['wd', 'name']], \n",
    "    left_on='name', right_on='name')[['best_match_score', 'mbid', \n",
    "                                      'name_left', 'name_right', 'wd']]\n",
    "match = match[match['best_match_score'] > 0.09].sort_values(by='best_match_score', \n",
    "                                                            ascending=False)"
   ]
  },
  {
   "cell_type": "code",
   "execution_count": null,
   "metadata": {},
   "outputs": [],
   "source": [
    "display_df(match, index=False)"
   ]
  },
  {
   "cell_type": "markdown",
   "metadata": {},
   "source": [
    "### With record linkage library"
   ]
  },
  {
   "cell_type": "code",
   "execution_count": null,
   "metadata": {},
   "outputs": [],
   "source": [
    "import recordlinkage\n",
    "\n",
    "# Indexation step\n",
    "indexer = recordlinkage.SortedNeighbourhoodIndex('name', window=9)\n",
    "pairs = indexer.index(no_links_from_mb, wd_musical_instruments[['wd', 'name']])\n",
    "print(len(pairs))\n",
    "\n",
    "# Comparison step\n",
    "compare_cl = recordlinkage.Compare()\n",
    "compare_cl.string('name', 'name', method='jarowinkler', \n",
    "                  threshold=0.9, label='name')\n",
    "features = compare_cl.compute(pairs, no_links_from_mb, wd_musical_instruments[['wd', 'name']])\n",
    "print(features[features.sum(axis=1) > 0].shape)\n",
    "\n",
    "# Classification step\n",
    "linkage = []\n",
    "for (idx0, idx1) in features[features.sum(axis=1) > 0].index:\n",
    "    linkage.append([\n",
    "        no_links_from_mb.loc[idx0]['mbid'],\n",
    "        no_links_from_mb.loc[idx0]['name'],\n",
    "        wd_musical_instruments.loc[idx1]['name'],\n",
    "        wd_musical_instruments.loc[idx1]['wd'],\n",
    "    ])\n",
    "    \n",
    "display_df(pd.DataFrame(linkage, columns=('mbid', 'name_left', 'name_right', 'wd')),\n",
    "           index=False)"
   ]
  },
  {
   "cell_type": "markdown",
   "metadata": {},
   "source": [
    "## Report"
   ]
  },
  {
   "cell_type": "code",
   "execution_count": null,
   "metadata": {},
   "outputs": [],
   "source": [
    "import jinja2\n",
    "\n",
    "template = jinja2.Template(\"\"\"\n",
    "<!doctype html>\n",
    "\n",
    "<html lang=\"en\">\n",
    "  <head>\n",
    "    <meta charset=\"utf-8\">\n",
    "    <title>Alignment of MusicBrainz and Wikidata Instruments</title>\n",
    "    <link href=\"https://maxcdn.bootstrapcdn.com/bootstrap/4.0.0/css/bootstrap.min.css\" rel=\"stylesheet\" integrity=\"sha384-Gn5384xqQ1aoWXA+058RXPxPg6fy4IWvTNh0E263XmFcJlSAwiGgFAW/dAiS6JXm\" crossorigin=\"anonymous\">\n",
    "  </head>\n",
    "\n",
    "  <body style=\"margin: 20px;\">\n",
    "    <h1>Alignment of MusicBrainz and Wikidata Instruments</h1>\n",
    "\n",
    "    <p>Latest MB database update: {{ MB_DATABASE_VERSION }}</p>\n",
    "    <p>Latest update: {{ date.today().isoformat() }}</p>\n",
    "    \n",
    "    <ol>\n",
    "      <li><a href=\"#wd2mb\">Add missing Wikidata links to MusicBrainz</a></li>\n",
    "      <li><a href=\"#mb2wd\">Add missing MusicBrainz links to Wikidata</a></li>\n",
    "      <li><a href=\"#alignment\">Missing alignment suggestions</a>\n",
    "    </ol>\n",
    "    \n",
    "    <h2 id=\"wd2mb\">Add missing Wikidata links to MusicBrainz</h2>\n",
    "    {{ df_to_html(links_to_add_to_mb) }}\n",
    "\n",
    "    <h2 id=\"mb2wd\">Add missing MusicBrainz links to Wikidata</h2>\n",
    "    {{ df_to_html(links_to_add_to_wd) }}\n",
    "\n",
    "    <h2 id=\"alignment\">Missing alignment suggestions</h2>\n",
    "    \n",
    "    <h3>Alignment on exact names</h3>\n",
    "    {{ df_to_html(no_links_merge) }}\n",
    "    \n",
    "    <h3>Alignment on fuzzy matching</h3>\n",
    "    {{ df_to_html(match) }}    \n",
    "  \n",
    "  </body>\n",
    "</html>\n",
    "\"\"\")\n",
    "\n",
    "with open('../docs/wd-instruments-report.html', 'w') as f:\n",
    "    f.write(template.render(**globals())\n",
    "            .replace('&lt;', '<').replace('&gt;', '>')\n",
    "            .replace('class=\"dataframe\"', 'class=\"table table-striped table-hover table-sm\"')\n",
    "            .replace('thead', 'thead class=\"thead-light\"'))"
   ]
  }
 ],
 "metadata": {
  "language_info": {
   "name": "python",
   "pygments_lexer": "ipython3"
  }
 },
 "nbformat": 4,
 "nbformat_minor": 4
}
