{
 "cells": [
  {
   "cell_type": "markdown",
   "id": "comprehensive-modification",
   "metadata": {},
   "source": [
    "# Wikidata / MusicBrainz links statistics"
   ]
  },
  {
   "cell_type": "markdown",
   "id": "medium-guard",
   "metadata": {},
   "source": [
    "Count links in either direction between MusicBrainz and Wikidata"
   ]
  },
  {
   "cell_type": "code",
   "execution_count": null,
   "id": "applicable-aviation",
   "metadata": {},
   "outputs": [],
   "source": [
    "from pprint import pprint\n",
    "%run -i ../startup.py"
   ]
  },
  {
   "cell_type": "code",
   "execution_count": null,
   "id": "possible-squad",
   "metadata": {},
   "outputs": [],
   "source": [
    "links_from_mb = {}\n",
    "for entity_type in MB_ENTITIES:\n",
    "    links_from_mb[entity_type] = mb_entity_count(entity_type)\n",
    "\n",
    "pprint(links_from_mb)"
   ]
  },
  {
   "cell_type": "code",
   "execution_count": null,
   "id": "electric-video",
   "metadata": {},
   "outputs": [],
   "source": [
    "links_from_wd = {}\n",
    "for entity_type, prop in WD_MB_LINK_PROPERTIES.items():\n",
    "    links_from_wd[entity_type] = wd_entity_count(entity_type, prop)\n",
    "   \n",
    "pprint(links_from_wd)"
   ]
  },
  {
   "cell_type": "code",
   "execution_count": null,
   "id": "colonial-prototype",
   "metadata": {},
   "outputs": [],
   "source": [
    "link_count = pd.DataFrame({'from_mb': links_from_mb, 'from_wd': links_from_wd})\n",
    "link_count"
   ]
  },
  {
   "cell_type": "code",
   "execution_count": null,
   "id": "affecting-nation",
   "metadata": {},
   "outputs": [],
   "source": [
    "import jinja2\n",
    "\n",
    "template = jinja2.Template(\"\"\"\n",
    "<!doctype html>\n",
    "\n",
    "<html lang=\"en\">\n",
    "  <head>\n",
    "    <meta charset=\"utf-8\">\n",
    "    <title>Alignment of MusicBrainz and Wikidata entities</title>\n",
    "    <link href=\"https://maxcdn.bootstrapcdn.com/bootstrap/4.0.0/css/bootstrap.min.css\" rel=\"stylesheet\" integrity=\"sha384-Gn5384xqQ1aoWXA+058RXPxPg6fy4IWvTNh0E263XmFcJlSAwiGgFAW/dAiS6JXm\" crossorigin=\"anonymous\">\n",
    "  </head>\n",
    "\n",
    "  <body style=\"margin: 20px;\">\n",
    "    <h1>Alignment of MusicBrainz and Wikidata entities</h1>\n",
    "\n",
    "    <p>Latest MB database update: {{ MB_DATABASE_VERSION }}</p>\n",
    "    <p>Latest update: {{ date.today().isoformat() }}</p>\n",
    "\n",
    "    <h2>Count links in either direction between MusicBrainz and Wikidata</h2>\n",
    "    {{ df_to_html(link_count, reindex=False) }}\n",
    "  </body>\n",
    "</html>\n",
    "\"\"\")\n",
    "\n",
    "with open('../docs/wd-statistics-report.html', 'w') as f:\n",
    "    f.write(template.render(**globals())\n",
    "            .replace('&lt;', '<').replace('&gt;', '>')\n",
    "            .replace('class=\"dataframe\"', 'class=\"table table-striped table-hover table-sm\"')\n",
    "            .replace('thead', 'thead class=\"thead-light\"'))"
   ]
  }
 ],
 "metadata": {
  "language_info": {
   "name": "python",
   "pygments_lexer": "ipython3"
  }
 },
 "nbformat": 4,
 "nbformat_minor": 5
}
