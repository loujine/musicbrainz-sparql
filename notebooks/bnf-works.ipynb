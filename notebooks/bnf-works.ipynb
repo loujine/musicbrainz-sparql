{
 "cells": [
  {
   "cell_type": "code",
   "execution_count": null,
   "metadata": {},
   "outputs": [],
   "source": [
    "%run -i ../startup.py\n",
    "ENTITY_TYPE = 'work'\n",
    "endpoint='http://data.bnf.fr/sparql'"
   ]
  },
  {
   "cell_type": "markdown",
   "metadata": {},
   "source": [
    "## Works from BNF"
   ]
  },
  {
   "cell_type": "code",
   "execution_count": null,
   "metadata": {},
   "outputs": [],
   "source": [
    "# linked to MB works\n",
    "bnf_entity_count(ENTITY_TYPE)"
   ]
  },
  {
   "cell_type": "code",
   "execution_count": null,
   "metadata": {},
   "outputs": [],
   "source": [
    "links_from_bnf = sparql(f\"\"\"\n",
    "PREFIX skos: <http://www.w3.org/2004/02/skos/core#>\n",
    "\n",
    "SELECT (?work AS ?bnf) ?mbid ?name\n",
    "WHERE {{\n",
    "  ?work skos:exactMatch ?mbid .\n",
    "  ?work skos:prefLabel ?name .\n",
    "  FILTER (regex (?mbid, 'musicbrainz.org/work/'))\n",
    "}}\n",
    "\"\"\", endpoint='http://data.bnf.fr/sparql')\n",
    "\n",
    "print('Count:', len(links_from_bnf))\n",
    "display_df(links_from_bnf.head())"
   ]
  },
  {
   "cell_type": "markdown",
   "metadata": {},
   "source": [
    "## Works from MB with BNF links"
   ]
  },
  {
   "cell_type": "code",
   "execution_count": null,
   "metadata": {},
   "outputs": [],
   "source": [
    "links_from_mb = sql(\"\"\"\n",
    "SELECT\n",
    "    url.url AS bnf,\n",
    "    work.gid AS mbid,\n",
    "    work.name\n",
    "FROM work\n",
    "JOIN l_url_work AS luw ON luw.entity1 = work.id\n",
    "JOIN url               ON luw.entity0 = url.id\n",
    "WHERE\n",
    "    url.url LIKE '%%bnf.fr%%'\n",
    "ORDER BY work.name\n",
    ";\n",
    "\"\"\")\n",
    "links_from_mb.bnf = links_from_mb.bnf.apply(lambda s: s.split('/')[-1])\n",
    "links_from_mb.mbid = links_from_mb.mbid.apply(str)\n",
    "\n",
    "print('Count:', len(links_from_mb))\n",
    "display_df(links_from_mb.head())"
   ]
  },
  {
   "cell_type": "markdown",
   "metadata": {},
   "source": [
    "## Data alignment"
   ]
  },
  {
   "cell_type": "code",
   "execution_count": null,
   "metadata": {},
   "outputs": [],
   "source": [
    "merge = pd.merge(links_from_bnf, links_from_mb, \n",
    "                 on=['bnf', 'mbid'], suffixes=('_bnf', '_mb'),\n",
    "                 how='outer', indicator=True)\n",
    "display_df(merge.head())"
   ]
  },
  {
   "cell_type": "code",
   "execution_count": null,
   "metadata": {},
   "outputs": [],
   "source": [
    "# link in mb but missing in bnf\n",
    "links_to_add_to_bnf = merge.loc[lambda x : x['_merge']=='right_only'][[\n",
    "    'name_mb', 'mbid', 'bnf']]\n",
    "\n",
    "print('Count:', len(links_to_add_to_bnf))\n",
    "display_df(links_to_add_to_bnf.head())"
   ]
  },
  {
   "cell_type": "code",
   "execution_count": null,
   "metadata": {},
   "outputs": [],
   "source": [
    "# link in bnf but missing in mb\n",
    "links_to_add_to_mb = merge.loc[lambda x : x['_merge']=='left_only'][[\n",
    "    'name_bnf', 'bnf', 'mbid']]\n",
    "links_to_add_to_mb['edit_link'] = links_to_add_to_mb.apply(\n",
    "    mb_work_edit_bnf_link, axis=1)\n",
    "\n",
    "print('Count:', len(links_to_add_to_mb))\n",
    "display_df(links_to_add_to_mb.head())"
   ]
  },
  {
   "cell_type": "markdown",
   "metadata": {},
   "source": [
    "## Report"
   ]
  },
  {
   "cell_type": "code",
   "execution_count": null,
   "metadata": {},
   "outputs": [],
   "source": [
    "import jinja2\n",
    "\n",
    "template = jinja2.Template(\"\"\"\n",
    "<!doctype html>\n",
    "\n",
    "<html lang=\"en\">\n",
    "  <head>\n",
    "    <meta charset=\"utf-8\">\n",
    "    <title>Alignment of MusicBrainz and BNF Works</title>\n",
    "    <link href=\"https://maxcdn.bootstrapcdn.com/bootstrap/4.0.0/css/bootstrap.min.css\" rel=\"stylesheet\" integrity=\"sha384-Gn5384xqQ1aoWXA+058RXPxPg6fy4IWvTNh0E263XmFcJlSAwiGgFAW/dAiS6JXm\" crossorigin=\"anonymous\">\n",
    "  </head>\n",
    "\n",
    "  <body style=\"margin: 20px;\">\n",
    "    <h1>Alignment of MusicBrainz and BNF Works</h1>\n",
    "\n",
    "    <p>Latest MB database update: {{ MB_DATABASE_VERSION }}</p>\n",
    "    <p>Latest update: {{ date.today().isoformat() }}</p>\n",
    "\n",
    "    <ol>\n",
    "      <li>\n",
    "        <a href=\"#bnf2mb\">Add missing BNF links to MusicBrainz</a>\n",
    "        ({{ links_to_add_to_mb.shape[0] }} rows)\n",
    "      </li>\n",
    "      <li>\n",
    "        <a href=\"#mb2bnf\">Add missing MusicBrainz links to BNF</a>\n",
    "        ({{ links_to_add_to_bnf.shape[0] }} rows)\n",
    "      </li>\n",
    "\n",
    "    </ol>\n",
    "    \n",
    "    <h2 id=\"bnf2mb\">Add missing BNF links to MusicBrainz</h2>\n",
    "    {{ df_to_html(links_to_add_to_mb) }}\n",
    "\n",
    "    <h2 id=\"mb2bnf\">Add missing MusicBrainz links to BNF</h2>\n",
    "    {{ df_to_html(links_to_add_to_bnf) }}\n",
    "    \n",
    "  </body>\n",
    "</html>\n",
    "\"\"\")\n",
    "\n",
    "with open('../docs/bnf-works-report.html', 'w') as f:\n",
    "    f.write(template.render(**globals())\n",
    "            .replace('&lt;', '<').replace('&gt;', '>')\n",
    "            .replace('class=\"dataframe\"', 'class=\"table table-striped table-hover table-sm\"')\n",
    "            .replace('thead', 'thead class=\"thead-light\"'))"
   ]
  }
 ],
 "metadata": {
  "language_info": {
   "name": "python",
   "pygments_lexer": "ipython3"
  }
 },
 "nbformat": 4,
 "nbformat_minor": 4
}
