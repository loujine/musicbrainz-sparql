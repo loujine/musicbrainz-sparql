{
 "cells": [
  {
   "cell_type": "markdown",
   "metadata": {},
   "source": [
    "# Alignment of MusicBrainz and Wikidata Record Labels"
   ]
  },
  {
   "cell_type": "code",
   "execution_count": null,
   "metadata": {},
   "outputs": [],
   "source": [
    "%run -i ../startup.py\n",
    "import numpy as np\n",
    "ENTITY_TYPE = 'label'"
   ]
  },
  {
   "cell_type": "markdown",
   "metadata": {},
   "source": [
    "Wikidata entities:\n",
    "\n",
    "https://www.wikidata.org/wiki/Q18127 record label\n",
    "\n",
    "Wikidata properties:\n",
    "\n",
    "https://www.wikidata.org/wiki/Property:P214 VIAF\n",
    "\n",
    "https://www.wikidata.org/wiki/Property:P268 BNF\n",
    "\n",
    "https://www.wikidata.org/wiki/Property:P244 LoC\n",
    "\n",
    "https://www.wikidata.org/wiki/Property:P1955 discogs ID\n",
    "\n",
    "https://www.wikidata.org/wiki/Property:P966 MusicBrainz label ID\n",
    "\n",
    "examples\n",
    "\n",
    "https://www.wikidata.org/wiki/Q885833\n"
   ]
  },
  {
   "cell_type": "markdown",
   "metadata": {},
   "source": [
    "## Record labels from Wikidata"
   ]
  },
  {
   "cell_type": "code",
   "execution_count": null,
   "metadata": {},
   "outputs": [],
   "source": [
    "links_type_from_wd = sparql(\"\"\"\n",
    "SELECT distinct (count(?label) as ?cnt) ?ins ?insLabel\n",
    "WHERE {\n",
    "  ?label wdt:P31 ?ins;\n",
    "    wdt:P966 ?mbid.\n",
    "    SERVICE wikibase:label { bd:serviceParam wikibase:language \"en\" }\n",
    "}\n",
    "group by ?ins ?insLabel\n",
    "order by DESC(?cnt)\n",
    "\"\"\")\n",
    "links_type_from_wd[links_type_from_wd.cnt.astype(int) > 10]"
   ]
  },
  {
   "cell_type": "code",
   "execution_count": null,
   "metadata": {},
   "outputs": [],
   "source": [
    "# linked to MB label\n",
    "links_from_wd = sparql(\"\"\"\n",
    "SELECT (?label AS ?wd) ?mbid ?labelLabel ?lc ?viaf ?discogs\n",
    "WHERE {\n",
    "  ?label wdt:P966 ?mbid .\n",
    "  OPTIONAL { ?label wdt:P7320 ?lc . }\n",
    "#  OPTIONAL { ?label wdt:P214 ?viaf . }\n",
    "#  OPTIONAL { ?label wdt:P1955 ?discogs . }\n",
    "#  OPTIONAL { ?label wdt:P268 ?bnf . }\n",
    "  SERVICE wikibase:label { bd:serviceParam wikibase:language \"en\" }\n",
    "}\n",
    "ORDER BY ASC(?labelLabel)\n",
    "\"\"\")\n",
    "links_from_wd.rename(columns={'labelLabel': 'name'}, inplace=True)\n",
    "links_from_wd.lc = links_from_wd.lc.apply(\n",
    "    lambda lc: lc if isinstance(lc, str) else '')\n",
    "#links_from_wd.discogs = links_from_wd.discogs.apply(\n",
    "#    lambda discogs: discogs if isinstance(discogs, str) else '')\n",
    "\n",
    "print('Count:', len(links_from_wd))\n",
    "display_df(links_from_wd.head())"
   ]
  },
  {
   "cell_type": "markdown",
   "metadata": {},
   "source": [
    "## Labels from MusicBrainz with wikidata links"
   ]
  },
  {
   "cell_type": "code",
   "execution_count": null,
   "metadata": {},
   "outputs": [],
   "source": [
    "links_from_mb = sql(\"\"\"\n",
    "SELECT\n",
    "    url.url AS wd,\n",
    "    label.gid AS mbid,\n",
    "    label.name,\n",
    "    label.label_code AS lc\n",
    "FROM \n",
    "    label\n",
    "    JOIN l_label_url AS llu ON llu.entity0 = label.id\n",
    "    JOIN url                ON llu.entity1 = url.id\n",
    "WHERE\n",
    "    url.url LIKE '%%wikidata.org%%'\n",
    "ORDER BY\n",
    "    label.name\n",
    ";\n",
    "\"\"\")\n",
    "links_from_mb.wd = links_from_mb.wd.apply(lambda s: s.split('/')[-1])\n",
    "links_from_mb.mbid = links_from_mb.mbid.apply(str)\n",
    "links_from_mb.lc = links_from_mb.lc.apply(\n",
    "    lambda lc: '' if np.isnan(lc) else str(int(lc)))\n",
    "\n",
    "print('Count:', len(links_from_mb))\n",
    "display_df(links_from_mb.head())"
   ]
  },
  {
   "cell_type": "markdown",
   "metadata": {},
   "source": [
    "## Duplicate links"
   ]
  },
  {
   "cell_type": "code",
   "execution_count": null,
   "metadata": {},
   "outputs": [],
   "source": [
    "duplicate_wd = links_from_mb[[\n",
    "    'wd', 'mbid', 'name']].groupby('wd').filter(\n",
    "    lambda row: len(row.mbid) > 1).sort_values('wd')\n",
    "\n",
    "print('Count:', len(duplicate_wd))\n",
    "display_df(duplicate_wd.head())"
   ]
  },
  {
   "cell_type": "code",
   "execution_count": null,
   "metadata": {},
   "outputs": [],
   "source": [
    "duplicate_mb = links_from_mb[['wd', 'mbid', 'name']].groupby('mbid').filter(\n",
    "    lambda row: len(row.mbid) > 1).sort_values('mbid')\n",
    "\n",
    "print('Count:', len(duplicate_mb))\n",
    "display_df(duplicate_mb.head())"
   ]
  },
  {
   "cell_type": "markdown",
   "metadata": {},
   "source": [
    "## Data alignment"
   ]
  },
  {
   "cell_type": "code",
   "execution_count": null,
   "metadata": {},
   "outputs": [],
   "source": [
    "merge = pd.merge(links_from_wd, links_from_mb, \n",
    "                 on=['wd', 'mbid'], suffixes=('_wd', '_mb'),\n",
    "                 how='outer', indicator=True)\n",
    "display_df(merge.head())"
   ]
  },
  {
   "cell_type": "code",
   "execution_count": null,
   "metadata": {},
   "outputs": [],
   "source": [
    "# link in mb but missing in wd\n",
    "links_to_add_to_wd = merge.loc[lambda x : x['_merge']=='right_only'][[\n",
    "    'name_mb', 'mbid', 'wd']]\n",
    "\n",
    "print('Count:', len(links_to_add_to_wd))\n",
    "display_df(links_to_add_to_wd.head())"
   ]
  },
  {
   "cell_type": "code",
   "execution_count": null,
   "metadata": {},
   "outputs": [],
   "source": [
    "# link in wd but missing in mb\n",
    "links_to_add_to_mb = merge.loc[lambda x : x['_merge']=='left_only'][[\n",
    "    'name_wd', 'wd', 'mbid']]\n",
    "links_to_add_to_mb['edit_link'] = links_to_add_to_mb.apply(\n",
    "    mb_label_edit_wd_link, axis=1)\n",
    "\n",
    "print('Count:', len(links_to_add_to_mb))\n",
    "display_df(links_to_add_to_mb.head())"
   ]
  },
  {
   "cell_type": "markdown",
   "metadata": {},
   "source": [
    "Example:\n",
    "https://musicbrainz.org/label/85bb6180-ac99-46b5-a3ec-92967e88f842 is not linked to https://www.wikidata.org/wiki/Q56809543\n",
    "\n",
    "https://musicbrainz.org/label/86e1fce2-a61e-4d08-9d4f-b91d602f995b is linked to https://www.wikidata.org/wiki/Q24950167 that was removed in https://www.wikidata.org/w/index.php?title=Special:Log&logid=661147435\n",
    "\n",
    "https://musicbrainz.org/label/69de915d-e7b5-4739-bd21-2de1099a0610 is linked to https://www.wikidata.org/wiki/Q4146440 and not the opposite"
   ]
  },
  {
   "cell_type": "markdown",
   "metadata": {},
   "source": [
    "### Add missing Label Codes"
   ]
  },
  {
   "cell_type": "code",
   "execution_count": null,
   "metadata": {},
   "outputs": [],
   "source": [
    "lc_to_add_to_mb = merge.loc[\n",
    "    (merge._merge=='both') & (merge.lc_mb == '') & (merge.lc_wd != '')\n",
    "][['mbid', 'wd', 'lc_wd']].sort_values(by='lc_wd')\n",
    "lc_to_add_to_mb['edit_link'] = lc_to_add_to_mb.apply(\n",
    "    mb_label_edit_lc_link, axis=1)\n",
    "\n",
    "print('Count:', len(lc_to_add_to_mb))\n",
    "display_df(lc_to_add_to_mb)"
   ]
  },
  {
   "cell_type": "code",
   "execution_count": null,
   "metadata": {},
   "outputs": [],
   "source": [
    "# linked to MB label\n",
    "links_from_wd_with_bnf = sparql(\"\"\"\n",
    "SELECT (?label AS ?wd) ?mbid ?labelLabel ?bnf\n",
    "WHERE {\n",
    "  ?label wdt:P966 ?mbid .\n",
    "  ?label wdt:P268 ?bnf .\n",
    "  SERVICE wikibase:label { bd:serviceParam wikibase:language \"en\" }\n",
    "}\n",
    "ORDER BY ASC(?labelLabel)\n",
    "\"\"\")\n",
    "links_from_wd_with_bnf.rename(columns={'labelLabel': 'name'}, inplace=True)\n",
    "\n",
    "print('Count:', len(links_from_wd_with_bnf))\n",
    "display_df(links_from_wd_with_bnf.head())"
   ]
  },
  {
   "cell_type": "code",
   "execution_count": null,
   "metadata": {},
   "outputs": [],
   "source": [
    "links_from_mb_with_bnf = sql(\"\"\"\n",
    "SELECT\n",
    "    url.url AS wd,\n",
    "    label.gid AS mbid,\n",
    "    label.name\n",
    "FROM label\n",
    "JOIN l_label_url AS llu             ON llu.entity0 = label.id\n",
    "JOIN url                            ON llu.entity1 = url.id\n",
    "WHERE\n",
    "    url.url LIKE '%%bnf.fr%%'\n",
    "ORDER BY label.name\n",
    ";\n",
    "\"\"\")\n",
    "links_from_mb_with_bnf.wd = links_from_mb.wd.apply(lambda s: s.split('/')[-1])\n",
    "links_from_mb_with_bnf.mbid = links_from_mb.mbid.apply(str)\n",
    "\n",
    "print('Count:', len(links_from_mb_with_bnf))\n",
    "display_df(links_from_mb_with_bnf.head())"
   ]
  },
  {
   "cell_type": "markdown",
   "metadata": {},
   "source": [
    "report\n",
    "x missing WD link\n",
    "x missing LC / diverging LC\n",
    "missing discogs /div \n",
    "missing viaf / div\n",
    "missing bnf / div\n",
    "\n",
    "common LC but no direct MB/WD link\n",
    "common discogs viaf bnf\n",
    "\n",
    "wikipedia link and no wikidata link"
   ]
  },
  {
   "cell_type": "markdown",
   "metadata": {},
   "source": [
    "## Report"
   ]
  },
  {
   "cell_type": "code",
   "execution_count": null,
   "metadata": {},
   "outputs": [],
   "source": [
    "import jinja2\n",
    "\n",
    "template = jinja2.Template(\"\"\"\n",
    "<!doctype html>\n",
    "\n",
    "<html lang=\"en\">\n",
    "  <head>\n",
    "    <meta charset=\"utf-8\">\n",
    "    <title>Alignment of MusicBrainz and Wikidata Record Labels</title>\n",
    "    <link href=\"https://maxcdn.bootstrapcdn.com/bootstrap/4.0.0/css/bootstrap.min.css\" rel=\"stylesheet\" integrity=\"sha384-Gn5384xqQ1aoWXA+058RXPxPg6fy4IWvTNh0E263XmFcJlSAwiGgFAW/dAiS6JXm\" crossorigin=\"anonymous\">\n",
    "  </head>\n",
    "\n",
    "  <body style=\"margin: 20px;\">\n",
    "    <h1>Alignment of MusicBrainz and Wikidata Record Labels</h1>\n",
    "\n",
    "    <p>Latest MB database update: {{ MB_DATABASE_VERSION }}</p>\n",
    "    <p>Latest update: {{ date.today().isoformat() }}</p>\n",
    "\n",
    "    <ol>\n",
    "      <li>\n",
    "        <a href=\"#lc\">Add missing Label Codes</a>\n",
    "        ({{ lc_to_add_to_mb.shape[0] }} rows)\n",
    "      </li>\n",
    "      <li>\n",
    "        <a href=\"#wddup\">MusicBrainz entities sharing a Wikidata link</a>\n",
    "        ({{ duplicate_wd.shape[0] }} rows)\n",
    "      </li>\n",
    "      <li>\n",
    "        <a href=\"#mbdup\">Wikidata entities sharing a MusicBrainz link</a>\n",
    "        ({{ duplicate_mb.shape[0] }} rows)\n",
    "      </li>\n",
    "      <li>\n",
    "        <a href=\"#wd2mb\">Add missing Wikidata links to MusicBrainz</a>\n",
    "        ({{ links_to_add_to_mb.shape[0] }} rows)\n",
    "      </li>\n",
    "      <li>\n",
    "        <a href=\"#mb2wd\">Add missing MusicBrainz links to Wikidata</a>\n",
    "        ({{ links_to_add_to_wd.shape[0] }} rows)\n",
    "      </li>\n",
    "    </ol>\n",
    "    \n",
    "    <h2 id=\"lc\">Add missing Label Codes</h2>\n",
    "    {{ df_to_html(lc_to_add_to_mb) }}\n",
    "\n",
    "    <h2 id=\"wddup\">MusicBrainz entities sharing a Wikidata link</h2>\n",
    "    {{ df_to_html(duplicate_wd) }}\n",
    "\n",
    "    <h2 id=\"mbdup\">Wikidata entities sharing a MusicBrainz link</h2>\n",
    "    {{ df_to_html(duplicate_mb) }}\n",
    "\n",
    "    <h2 id=\"wd2mb\">Add missing Wikidata links to MusicBrainz</h2>\n",
    "    {{ df_to_html(links_to_add_to_mb) }}\n",
    "\n",
    "    <h2 id=\"mb2wd\">Add missing MusicBrainz links to Wikidata</h2>\n",
    "    {{ df_to_html(links_to_add_to_wd) }}\n",
    "  </body>\n",
    "</html>\n",
    "\"\"\")\n",
    "\n",
    "with open('../docs/wd-recordlabels-report.html', 'w') as f:\n",
    "    f.write(template.render(**globals())\n",
    "            .replace('&lt;', '<').replace('&gt;', '>')\n",
    "            .replace('class=\"dataframe\"', 'class=\"table table-striped table-hover table-sm\"')\n",
    "            .replace('thead', 'thead class=\"thead-light\"'))"
   ]
  }
 ],
 "metadata": {
  "language_info": {
   "name": "python",
   "pygments_lexer": "ipython3"
  }
 },
 "nbformat": 4,
 "nbformat_minor": 4
}
